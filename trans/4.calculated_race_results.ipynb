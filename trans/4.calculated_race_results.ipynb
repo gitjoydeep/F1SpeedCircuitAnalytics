{
 "cells": [
  {
   "cell_type": "code",
   "execution_count": 0,
   "metadata": {
    "application/vnd.databricks.v1+cell": {
     "cellMetadata": {
      "byteLimit": 2048000,
      "rowLimit": 10000
     },
     "inputWidgets": {},
     "nuid": "4652aaf5-4da5-4a1f-8fdc-9be35e9b2aef",
     "showTitle": false,
     "tableResultSettingsMap": {},
     "title": ""
    }
   },
   "outputs": [],
   "source": [
    "dbutils.widgets.text(\"prm_file_date\", \"\")\n",
    "var_file_date = dbutils.widgets.get(\"prm_file_date\")"
   ]
  },
  {
   "cell_type": "code",
   "execution_count": 0,
   "metadata": {
    "application/vnd.databricks.v1+cell": {
     "cellMetadata": {
      "byteLimit": 2048000,
      "rowLimit": 10000
     },
     "inputWidgets": {},
     "nuid": "f9685ae5-9307-45cf-b5cc-fec25f6017ee",
     "showTitle": false,
     "tableResultSettingsMap": {},
     "title": ""
    }
   },
   "outputs": [],
   "source": [
    "display(var_file_date)"
   ]
  },
  {
   "cell_type": "code",
   "execution_count": 0,
   "metadata": {
    "application/vnd.databricks.v1+cell": {
     "cellMetadata": {
      "byteLimit": 2048000,
      "implicitDf": true,
      "rowLimit": 10000
     },
     "inputWidgets": {},
     "nuid": "d36328fd-6def-4292-8c03-4bd6c8f9e5c9",
     "showTitle": false,
     "tableResultSettingsMap": {},
     "title": ""
    }
   },
   "outputs": [],
   "source": [
    "%sql\n",
    "show databases; \n",
    "use database f1_presentation;\n"
   ]
  },
  {
   "cell_type": "code",
   "execution_count": 0,
   "metadata": {
    "application/vnd.databricks.v1+cell": {
     "cellMetadata": {
      "byteLimit": 2048000,
      "rowLimit": 10000
     },
     "inputWidgets": {},
     "nuid": "022bfb41-8f96-4b1e-b231-af447e55dff1",
     "showTitle": false,
     "tableResultSettingsMap": {},
     "title": ""
    }
   },
   "outputs": [],
   "source": [
    "\n",
    "spark.sql(f\"\"\"\n",
    "            CREATE OR REPLACE TEMP VIEW race_results_updated\n",
    "            AS\n",
    "            SELECT races.race_year, \n",
    "                constructors.name as team_name,\n",
    "                drivers.driver_id,\n",
    "                drivers.name as driver_name,\n",
    "                races.race_id,\n",
    "                results.position,\n",
    "                results.points,\n",
    "                11 - results.position AS calculated_points\n",
    "            FROM f1_processed.results\n",
    "            JOIN f1_processed.drivers ON (results.driver_id = drivers.driver_id)\n",
    "            JOIN f1_processed.constructors ON (results.constructor_id = constructors.constructor_id)\n",
    "            JOIN f1_processed.races ON (results.race_id = races.race_id)\n",
    "            WHERE results.position <= 10\n",
    "            AND results.file_date = '{var_file_date}'\n",
    "\"\"\")"
   ]
  },
  {
   "cell_type": "code",
   "execution_count": 0,
   "metadata": {
    "application/vnd.databricks.v1+cell": {
     "cellMetadata": {
      "byteLimit": 2048000,
      "implicitDf": true,
      "rowLimit": 10000
     },
     "inputWidgets": {},
     "nuid": "dcfc4dfe-c41c-4f74-8611-e74dd6b4013e",
     "showTitle": false,
     "tableResultSettingsMap": {},
     "title": ""
    }
   },
   "outputs": [],
   "source": [
    "%sql \n",
    "select count(*) from race_results_updated"
   ]
  },
  {
   "cell_type": "code",
   "execution_count": 0,
   "metadata": {
    "application/vnd.databricks.v1+cell": {
     "cellMetadata": {
      "byteLimit": 2048000,
      "rowLimit": 10000
     },
     "inputWidgets": {},
     "nuid": "8ea61431-4926-4053-ac50-49d3c3eb257f",
     "showTitle": false,
     "tableResultSettingsMap": {},
     "title": ""
    }
   },
   "outputs": [],
   "source": [
    "spark.sql(f\"\"\"\n",
    "            CREATE TABLE IF NOT EXISTS f1_presentation.calculated_race_results\n",
    "            (\n",
    "            race_year INT,\n",
    "            team_name STRING,\n",
    "            driver_id INT,\n",
    "            driver_name STRING,\n",
    "            race_id INT,\n",
    "            position INT,\n",
    "            points INT,\n",
    "            calculated_points INT,\n",
    "            created_date TIMESTAMP,\n",
    "            updated_date TIMESTAMP\n",
    "            )\n",
    "            USING DELTA\n",
    "\"\"\")"
   ]
  },
  {
   "cell_type": "code",
   "execution_count": 0,
   "metadata": {
    "application/vnd.databricks.v1+cell": {
     "cellMetadata": {
      "byteLimit": 2048000,
      "implicitDf": true,
      "rowLimit": 10000
     },
     "inputWidgets": {},
     "nuid": "8492a8d0-09c5-4ac0-b20d-babc6a363238",
     "showTitle": false,
     "tableResultSettingsMap": {},
     "title": ""
    }
   },
   "outputs": [],
   "source": [
    "spark.sql(f\"\"\"\n",
    "        merge into f1_presentation.calculated_race_results tgt\n",
    "        using race_results_updated upd\n",
    "        on (tgt.driver_id = upd.driver_id AND tgt.race_id = upd.race_id) \n",
    "        when matched then\n",
    "        update set tgt.position = upd.position,\n",
    "        tgt.points = upd.points,\n",
    "        tgt.calculated_points = upd.calculated_points,\n",
    "        tgt.updated_date = current_timestamp()\n",
    "        when not matched then\n",
    "        insert (race_year, team_name, driver_id, driver_name, race_id, position, points, calculated_points, created_date)\n",
    "        values (upd.race_year, upd.team_name, upd.driver_id, upd.driver_name, upd.race_id, upd.position, upd.points, upd.calculated_points, current_timestamp())\n",
    "\"\"\")\n"
   ]
  },
  {
   "cell_type": "code",
   "execution_count": 0,
   "metadata": {
    "application/vnd.databricks.v1+cell": {
     "cellMetadata": {
      "byteLimit": 2048000,
      "implicitDf": true,
      "rowLimit": 10000
     },
     "inputWidgets": {},
     "nuid": "34b790dd-ef7d-4e94-9615-2d9dff3c664a",
     "showTitle": false,
     "tableResultSettingsMap": {},
     "title": ""
    }
   },
   "outputs": [],
   "source": [
    "%sql\n",
    "SELECT * FROM f1_presentation.calculated_race_results"
   ]
  },
  {
   "cell_type": "code",
   "execution_count": 0,
   "metadata": {
    "application/vnd.databricks.v1+cell": {
     "cellMetadata": {
      "byteLimit": 2048000,
      "implicitDf": true,
      "rowLimit": 10000
     },
     "inputWidgets": {},
     "nuid": "dd6b8428-169c-41ef-b197-53c379ab1b90",
     "showTitle": false,
     "tableResultSettingsMap": {},
     "title": ""
    }
   },
   "outputs": [],
   "source": [
    "%sql\n",
    "select * from race_results_updated where race_year = 2020"
   ]
  },
  {
   "cell_type": "code",
   "execution_count": 0,
   "metadata": {
    "application/vnd.databricks.v1+cell": {
     "cellMetadata": {
      "byteLimit": 2048000,
      "rowLimit": 10000
     },
     "inputWidgets": {},
     "nuid": "1df2744f-8edd-4b7a-8c72-608679cabc60",
     "showTitle": false,
     "tableResultSettingsMap": {},
     "title": ""
    }
   },
   "outputs": [],
   "source": [
    "%sql\n",
    "-- CREATE table f1_presentation.calculated_race_results\n",
    "-- using PARQUET\n",
    "-- AS\n",
    "-- SELECT races.race_year, \n",
    "--        constructors.name as team_name,\n",
    "--        drivers.name as driver_name,\n",
    "--        results.position,\n",
    "--        results.points,\n",
    "--        11 - results.position AS calculated_points\n",
    "-- FROM f1_processed.results\n",
    "-- JOIN f1_processed.drivers ON (RESULTS.driver_id = drivers.driver_id)\n",
    "-- JOIN f1_processed.constructors ON (results.constructor_id = constructors.constructor_id)\n",
    "-- JOIN f1_processed.races ON (RESULTS.race_id = races.race_id)\n",
    "-- where f1_processed.results.position <= 10"
   ]
  },
  {
   "cell_type": "code",
   "execution_count": 0,
   "metadata": {
    "application/vnd.databricks.v1+cell": {
     "cellMetadata": {
      "byteLimit": 2048000,
      "implicitDf": true,
      "rowLimit": 10000
     },
     "inputWidgets": {},
     "nuid": "48952cea-823d-4b5c-93c5-c9ad7d2f29cd",
     "showTitle": false,
     "tableResultSettingsMap": {},
     "title": ""
    }
   },
   "outputs": [],
   "source": [
    "%sql\n",
    "select * from f1_presentation.calculated_race_results"
   ]
  },
  {
   "cell_type": "code",
   "execution_count": 0,
   "metadata": {
    "application/vnd.databricks.v1+cell": {
     "cellMetadata": {
      "byteLimit": 2048000,
      "rowLimit": 10000
     },
     "inputWidgets": {},
     "nuid": "08e92f93-a4c7-4a50-8749-a131b29e4ea4",
     "showTitle": false,
     "tableResultSettingsMap": {},
     "title": ""
    }
   },
   "outputs": [],
   "source": []
  }
 ],
 "metadata": {
  "application/vnd.databricks.v1+notebook": {
   "computePreferences": null,
   "dashboards": [],
   "environmentMetadata": {
    "base_environment": "",
    "client": "1"
   },
   "language": "python",
   "notebookMetadata": {
    "mostRecentlyExecutedCommandWithImplicitDF": {
     "commandId": 8161430683477935,
     "dataframes": [
      "_sqldf"
     ]
    },
    "pythonIndentUnit": 4
   },
   "notebookName": "4.calculated_race_results",
   "widgets": {
    "prm_file_date": {
     "currentValue": "2021-04-18",
     "nuid": "9b64b80a-e61d-4fe5-8420-8a2dd9ba745b",
     "typedWidgetInfo": {
      "autoCreated": false,
      "defaultValue": "",
      "label": null,
      "name": "prm_file_date",
      "options": {
       "widgetDisplayType": "Text",
       "validationRegex": null
      },
      "parameterDataType": "String"
     },
     "widgetInfo": {
      "widgetType": "text",
      "defaultValue": "",
      "label": null,
      "name": "prm_file_date",
      "options": {
       "widgetType": "text",
       "autoCreated": null,
       "validationRegex": null
      }
     }
    }
   }
  },
  "language_info": {
   "name": "python"
  }
 },
 "nbformat": 4,
 "nbformat_minor": 0
}
