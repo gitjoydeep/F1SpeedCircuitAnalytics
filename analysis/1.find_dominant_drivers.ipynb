{
 "cells": [
  {
   "cell_type": "code",
   "execution_count": 0,
   "metadata": {
    "application/vnd.databricks.v1+cell": {
     "cellMetadata": {
      "byteLimit": 2048000,
      "rowLimit": 10000
     },
     "inputWidgets": {},
     "nuid": "29f6cffc-d839-413f-9bdf-f50d37317cad",
     "showTitle": false,
     "tableResultSettingsMap": {},
     "title": ""
    }
   },
   "outputs": [],
   "source": [
    "select\n",
    "  driver_name,\n",
    "  count(*) as races_completed,\n",
    "  sum(calculated_points) as total_points,\n",
    "  avg(calculated_points) as avg_points\n",
    "from\n",
    "  f1_presentation.calculated_race_results\n",
    "group by\n",
    "  driver_name\n",
    "  having count(*) > 50\n",
    "order by\n",
    "  avg_points desc"
   ]
  },
  {
   "cell_type": "code",
   "execution_count": 0,
   "metadata": {
    "application/vnd.databricks.v1+cell": {
     "cellMetadata": {
      "byteLimit": 2048000,
      "rowLimit": 10000
     },
     "inputWidgets": {},
     "nuid": "fc8b645e-e6c0-4e8b-9dde-96d27e391b17",
     "showTitle": false,
     "tableResultSettingsMap": {},
     "title": ""
    }
   },
   "outputs": [],
   "source": [
    "select\n",
    "  driver_name,\n",
    "  count(*) as races_completed,\n",
    "  sum(calculated_points) as total_points,\n",
    "  avg(calculated_points) as avg_points\n",
    "from\n",
    "  f1_presentation.calculated_race_results\n",
    "  where race_year between 2011 and 2020\n",
    "group by\n",
    "  driver_name\n",
    "  having count(*) > 50\n",
    "order by\n",
    "  avg_points desc"
   ]
  },
  {
   "cell_type": "code",
   "execution_count": 0,
   "metadata": {
    "application/vnd.databricks.v1+cell": {
     "cellMetadata": {},
     "inputWidgets": {},
     "nuid": "c82c12f8-d083-4c73-95ed-7852a0f2812b",
     "showTitle": false,
     "tableResultSettingsMap": {},
     "title": ""
    }
   },
   "outputs": [],
   "source": []
  }
 ],
 "metadata": {
  "application/vnd.databricks.v1+notebook": {
   "computePreferences": null,
   "dashboards": [],
   "environmentMetadata": {
    "base_environment": "",
    "client": "1"
   },
   "language": "sql",
   "notebookMetadata": {
    "pythonIndentUnit": 4
   },
   "notebookName": "1.find_dominant_drivers",
   "widgets": {}
  },
  "language_info": {
   "name": "sql"
  }
 },
 "nbformat": 4,
 "nbformat_minor": 0
}
