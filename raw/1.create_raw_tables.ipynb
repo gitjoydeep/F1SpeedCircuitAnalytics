{
 "cells": [
  {
   "cell_type": "markdown",
   "metadata": {
    "application/vnd.databricks.v1+cell": {
     "cellMetadata": {
      "byteLimit": 2048000,
      "rowLimit": 10000
     },
     "inputWidgets": {},
     "nuid": "4bffd344-5fd0-4a0c-9c98-332fb8d3201a",
     "showTitle": false,
     "tableResultSettingsMap": {},
     "title": ""
    }
   },
   "source": [
    "### Create circuits table"
   ]
  },
  {
   "cell_type": "code",
   "execution_count": 0,
   "metadata": {
    "application/vnd.databricks.v1+cell": {
     "cellMetadata": {
      "byteLimit": 2048000,
      "rowLimit": 10000
     },
     "inputWidgets": {},
     "nuid": "c0b54b92-c32f-4adc-996d-3b16849e2096",
     "showTitle": false,
     "tableResultSettingsMap": {},
     "title": ""
    }
   },
   "outputs": [],
   "source": [
    "CREATE database IF NOT EXISTS f1_raw;"
   ]
  },
  {
   "cell_type": "code",
   "execution_count": 0,
   "metadata": {
    "application/vnd.databricks.v1+cell": {
     "cellMetadata": {
      "byteLimit": 2048000,
      "rowLimit": 10000
     },
     "inputWidgets": {},
     "nuid": "d1e572a4-afd9-4868-a21d-3e48dd966c87",
     "showTitle": false,
     "tableResultSettingsMap": {},
     "title": ""
    }
   },
   "outputs": [],
   "source": [
    "DESCRIBE DATABASE EXTENDED f1_raw;"
   ]
  },
  {
   "cell_type": "code",
   "execution_count": 0,
   "metadata": {
    "application/vnd.databricks.v1+cell": {
     "cellMetadata": {
      "byteLimit": 2048000,
      "rowLimit": 10000
     },
     "inputWidgets": {},
     "nuid": "e29fb5ae-9bae-47ee-a2cf-ce9a172b7f05",
     "showTitle": false,
     "tableResultSettingsMap": {},
     "title": ""
    }
   },
   "outputs": [],
   "source": [
    "drop table if  exists f1_raw.circuits;\n",
    "create table if not exists f1_raw.circuits (\n",
    "  circuitId integer,\n",
    "circuitRef string,\n",
    "name string,\n",
    "location string,\n",
    "country string,\n",
    "lat double,\n",
    "lng double,\n",
    "alt integer,\n",
    "url string\n",
    ")\n",
    "USING CSV\n",
    "options (path \"/mnt/azformula1dlsa/raw/circuits.csv\", header \"true\")"
   ]
  },
  {
   "cell_type": "code",
   "execution_count": 0,
   "metadata": {
    "application/vnd.databricks.v1+cell": {
     "cellMetadata": {
      "byteLimit": 2048000,
      "rowLimit": 10000
     },
     "inputWidgets": {},
     "nuid": "e2790be2-68b8-4459-a3a3-d7de4aea4c74",
     "showTitle": false,
     "tableResultSettingsMap": {},
     "title": ""
    }
   },
   "outputs": [],
   "source": [
    "SELECT * FROM f1_raw.circuits;"
   ]
  },
  {
   "cell_type": "markdown",
   "metadata": {
    "application/vnd.databricks.v1+cell": {
     "cellMetadata": {
      "byteLimit": 2048000,
      "rowLimit": 10000
     },
     "inputWidgets": {},
     "nuid": "f7e0baf4-8fec-45f6-b433-0c050da47179",
     "showTitle": false,
     "tableResultSettingsMap": {},
     "title": ""
    }
   },
   "source": [
    "### Create races table"
   ]
  },
  {
   "cell_type": "code",
   "execution_count": 0,
   "metadata": {
    "application/vnd.databricks.v1+cell": {
     "cellMetadata": {
      "byteLimit": 2048000,
      "rowLimit": 10000
     },
     "inputWidgets": {},
     "nuid": "2b2a4c64-b3ff-43c9-8254-9743badcbdf4",
     "showTitle": false,
     "tableResultSettingsMap": {},
     "title": ""
    }
   },
   "outputs": [],
   "source": [
    "drop table if  exists f1_raw.races;\n",
    "create table if not exists f1_raw.races (\n",
    "raceId integer,\n",
    "year integer,\n",
    "round integer,\n",
    "circuitId integer,\n",
    "name string,\n",
    "date date,\n",
    "time string,\n",
    "url string\n",
    ")\n",
    "USING CSV\n",
    "options (path \"/mnt/azformula1dlsa/raw/races.csv\", header \"true\")"
   ]
  },
  {
   "cell_type": "code",
   "execution_count": 0,
   "metadata": {
    "application/vnd.databricks.v1+cell": {
     "cellMetadata": {
      "byteLimit": 2048000,
      "rowLimit": 10000
     },
     "inputWidgets": {},
     "nuid": "7d3ca9a3-f123-4f47-8fb3-b56133414586",
     "showTitle": false,
     "tableResultSettingsMap": {},
     "title": ""
    }
   },
   "outputs": [],
   "source": [
    "select * from f1_raw.races"
   ]
  },
  {
   "cell_type": "markdown",
   "metadata": {
    "application/vnd.databricks.v1+cell": {
     "cellMetadata": {
      "byteLimit": 2048000,
      "rowLimit": 10000
     },
     "inputWidgets": {},
     "nuid": "62f2f1e1-bf95-4dc1-818e-2230c9841a58",
     "showTitle": false,
     "tableResultSettingsMap": {},
     "title": ""
    }
   },
   "source": [
    "#### Create constructors table\n",
    "1. sinlge line json\n",
    "2. simple structure"
   ]
  },
  {
   "cell_type": "code",
   "execution_count": 0,
   "metadata": {
    "application/vnd.databricks.v1+cell": {
     "cellMetadata": {
      "byteLimit": 2048000,
      "rowLimit": 10000
     },
     "inputWidgets": {},
     "nuid": "c53cadcc-61ec-4d63-ae15-24a2e3f540d8",
     "showTitle": false,
     "tableResultSettingsMap": {},
     "title": ""
    }
   },
   "outputs": [],
   "source": [
    "drop table if  exists f1_raw.constructors;\n",
    "create table if not exists f1_raw.constructors (\n",
    "constructorId integer,\n",
    "constructorRef string,\n",
    "name string,\n",
    "nationality string,\n",
    "url string\n",
    ")\n",
    "USING json\n",
    "options (path \"/mnt/azformula1dlsa/raw/constructors.json\")"
   ]
  },
  {
   "cell_type": "markdown",
   "metadata": {
    "application/vnd.databricks.v1+cell": {
     "cellMetadata": {
      "byteLimit": 2048000,
      "rowLimit": 10000
     },
     "inputWidgets": {},
     "nuid": "8b57058b-416c-4eb8-89e7-5ea56ed6a2bb",
     "showTitle": false,
     "tableResultSettingsMap": {},
     "title": ""
    }
   },
   "source": [
    "#### Create driver table\n",
    "1. sinlge line json\n",
    "2. comlex structure"
   ]
  },
  {
   "cell_type": "code",
   "execution_count": 0,
   "metadata": {
    "application/vnd.databricks.v1+cell": {
     "cellMetadata": {
      "byteLimit": 2048000,
      "rowLimit": 10000
     },
     "inputWidgets": {},
     "nuid": "db9be285-98c8-4504-90e2-6653d90e1446",
     "showTitle": false,
     "tableResultSettingsMap": {},
     "title": ""
    }
   },
   "outputs": [],
   "source": [
    "drop table if  exists f1_raw.drivers;\n",
    "create table if not exists f1_raw.drivers (\n",
    "driverId integer,\n",
    "driverRef string,\n",
    "number integer,\n",
    "code string,\n",
    "name struct <forename: string,surname: string>,\n",
    "dob date,\n",
    "nationality string,\n",
    "url string\n",
    ")\n",
    "USING json\n",
    "options (path \"/mnt/azformula1dlsa/raw/drivers.json\")"
   ]
  },
  {
   "cell_type": "code",
   "execution_count": 0,
   "metadata": {
    "application/vnd.databricks.v1+cell": {
     "cellMetadata": {
      "byteLimit": 2048000,
      "rowLimit": 10000
     },
     "inputWidgets": {},
     "nuid": "26f89d5a-057c-4e32-9663-45b4f2f757a1",
     "showTitle": false,
     "tableResultSettingsMap": {},
     "title": ""
    }
   },
   "outputs": [],
   "source": [
    "select * from f1_raw.drivers"
   ]
  },
  {
   "cell_type": "markdown",
   "metadata": {
    "application/vnd.databricks.v1+cell": {
     "cellMetadata": {
      "byteLimit": 2048000,
      "rowLimit": 10000
     },
     "inputWidgets": {},
     "nuid": "0378bec4-ed80-4da6-b6cb-2915575348b5",
     "showTitle": false,
     "tableResultSettingsMap": {},
     "title": ""
    }
   },
   "source": [
    "#### Create results table\n",
    "1. sinlge line json\n",
    "2. simple structure"
   ]
  },
  {
   "cell_type": "code",
   "execution_count": 0,
   "metadata": {
    "application/vnd.databricks.v1+cell": {
     "cellMetadata": {
      "byteLimit": 2048000,
      "rowLimit": 10000
     },
     "inputWidgets": {},
     "nuid": "b4634654-72a9-42cb-8c35-a5895ab55ccb",
     "showTitle": false,
     "tableResultSettingsMap": {},
     "title": ""
    }
   },
   "outputs": [],
   "source": [
    "drop table if  exists f1_raw.results;\n",
    "create table if not exists f1_raw.results (\n",
    "resultId integer,\n",
    "raceId integer,\n",
    "driverId integer,\n",
    "constructorId integer,\n",
    "number integer,\n",
    "grid integer,\n",
    "position integer,\n",
    "positionText string,\n",
    "positionOrder integer,\n",
    "points float,\n",
    "laps integer,\n",
    "time string,\n",
    "milliseconds integer,\n",
    "fastestLap integer,\n",
    "rank integer,\n",
    "fastestLapTime string,\n",
    "fastestLapSpeed string,\n",
    "statusId integer\n",
    ")\n",
    "USING json\n",
    "options (path \"/mnt/azformula1dlsa/raw/results.json\")"
   ]
  },
  {
   "cell_type": "code",
   "execution_count": 0,
   "metadata": {
    "application/vnd.databricks.v1+cell": {
     "cellMetadata": {
      "byteLimit": 2048000,
      "rowLimit": 10000
     },
     "inputWidgets": {},
     "nuid": "c0d26771-e485-4fbc-b922-5b20aab565d0",
     "showTitle": false,
     "tableResultSettingsMap": {},
     "title": ""
    }
   },
   "outputs": [],
   "source": [
    "select * from f1_raw.results"
   ]
  },
  {
   "cell_type": "markdown",
   "metadata": {
    "application/vnd.databricks.v1+cell": {
     "cellMetadata": {
      "byteLimit": 2048000,
      "rowLimit": 10000
     },
     "inputWidgets": {},
     "nuid": "9d1a628f-8d6a-485b-9a89-423d7214e559",
     "showTitle": false,
     "tableResultSettingsMap": {},
     "title": ""
    }
   },
   "source": [
    "#### Create pitstop table\n",
    "1. multiline line json\n",
    "2. comlex structure"
   ]
  },
  {
   "cell_type": "code",
   "execution_count": 0,
   "metadata": {
    "application/vnd.databricks.v1+cell": {
     "cellMetadata": {
      "byteLimit": 2048000,
      "rowLimit": 10000
     },
     "inputWidgets": {},
     "nuid": "de25c433-4ac9-415a-a49e-80f81683132d",
     "showTitle": false,
     "tableResultSettingsMap": {},
     "title": ""
    }
   },
   "outputs": [],
   "source": [
    "drop table if  exists f1_raw.pit_stops;\n",
    "create table if not exists f1_raw.pit_stops (\n",
    "raceId integer,\n",
    "driverId integer,\n",
    "stop integer,\n",
    "lap integer,\n",
    "time string,\n",
    "duration string,\n",
    "milliseconds integer\n",
    ")\n",
    "USING json\n",
    "options (path \"/mnt/azformula1dlsa/raw/pit_stops.json\", multiLine true)"
   ]
  },
  {
   "cell_type": "code",
   "execution_count": 0,
   "metadata": {
    "application/vnd.databricks.v1+cell": {
     "cellMetadata": {
      "byteLimit": 2048000,
      "rowLimit": 10000
     },
     "inputWidgets": {},
     "nuid": "2106e5af-fac5-4a37-8ecf-d00a3c9e889d",
     "showTitle": false,
     "tableResultSettingsMap": {},
     "title": ""
    }
   },
   "outputs": [],
   "source": [
    "select * from f1_raw.pit_stops"
   ]
  },
  {
   "cell_type": "markdown",
   "metadata": {
    "application/vnd.databricks.v1+cell": {
     "cellMetadata": {
      "byteLimit": 2048000,
      "rowLimit": 10000
     },
     "inputWidgets": {},
     "nuid": "d8f55763-de83-485a-84eb-32bdd7aad0e2",
     "showTitle": false,
     "tableResultSettingsMap": {},
     "title": ""
    }
   },
   "source": [
    "#### Create tables for list of files\n"
   ]
  },
  {
   "cell_type": "markdown",
   "metadata": {
    "application/vnd.databricks.v1+cell": {
     "cellMetadata": {},
     "inputWidgets": {},
     "nuid": "8e10b282-040a-4341-ba18-cca1d0046a0d",
     "showTitle": false,
     "tableResultSettingsMap": {},
     "title": ""
    }
   },
   "source": [
    "#### Create Lap Times Table\n",
    "-  CSV file \\\n",
    "-  Multiple files"
   ]
  },
  {
   "cell_type": "code",
   "execution_count": 0,
   "metadata": {
    "application/vnd.databricks.v1+cell": {
     "cellMetadata": {
      "byteLimit": 2048000,
      "rowLimit": 10000
     },
     "inputWidgets": {},
     "nuid": "b55bff31-6099-4ab0-8f77-cf0be5e675b6",
     "showTitle": false,
     "tableResultSettingsMap": {},
     "title": ""
    }
   },
   "outputs": [],
   "source": [
    "drop table if  exists f1_raw.lap_times;\n",
    "create table if not exists f1_raw.lap_times (\n",
    "raceId  integer,\n",
    "driverId  integer,\n",
    "lap integer,\n",
    "position  integer,\n",
    "time  string,\n",
    "milliseconds  integer\n",
    ")\n",
    "USING CSV\n",
    "options (path \"/mnt/azformula1dlsa/raw/lap_times\", multiLine true)"
   ]
  },
  {
   "cell_type": "markdown",
   "metadata": {
    "application/vnd.databricks.v1+cell": {
     "cellMetadata": {},
     "inputWidgets": {},
     "nuid": "98aef398-136b-466e-a1d8-fea72caa3406",
     "showTitle": false,
     "tableResultSettingsMap": {},
     "title": ""
    }
   },
   "source": [
    "Create Qualifying Table\n",
    "- Multiline JSON \n",
    "- Multiple files"
   ]
  },
  {
   "cell_type": "code",
   "execution_count": 0,
   "metadata": {
    "application/vnd.databricks.v1+cell": {
     "cellMetadata": {
      "byteLimit": 2048000,
      "rowLimit": 10000
     },
     "inputWidgets": {},
     "nuid": "f062046c-6042-4bd5-8972-0946cb7a12ef",
     "showTitle": false,
     "tableResultSettingsMap": {},
     "title": ""
    }
   },
   "outputs": [],
   "source": [
    "drop table if  exists f1_raw.qualifying;\n",
    "create table if not exists f1_raw.qualifying (\n",
    "qualifyId integer,\n",
    "raceId integer,\n",
    "driverId integer,\n",
    "constructorId integer,\n",
    "number integer,\n",
    "position integer,\n",
    "q1 string,\n",
    "q2 string,\n",
    "q3 string\n",
    ")\n",
    "USING JSON\n",
    "options (path \"/mnt/azformula1dlsa/raw/qualifying\", multiLine true)"
   ]
  },
  {
   "cell_type": "code",
   "execution_count": 0,
   "metadata": {
    "application/vnd.databricks.v1+cell": {
     "cellMetadata": {
      "byteLimit": 2048000,
      "rowLimit": 10000
     },
     "inputWidgets": {},
     "nuid": "17db5c9a-9eaf-47c4-9a86-ea198b523d13",
     "showTitle": false,
     "tableResultSettingsMap": {},
     "title": ""
    }
   },
   "outputs": [],
   "source": [
    "select count(1) from f1_raw.qualifying"
   ]
  },
  {
   "cell_type": "code",
   "execution_count": 0,
   "metadata": {
    "application/vnd.databricks.v1+cell": {
     "cellMetadata": {},
     "inputWidgets": {},
     "nuid": "5b2ec68f-0a9d-4915-a46f-3becbe42db98",
     "showTitle": false,
     "tableResultSettingsMap": {},
     "title": ""
    }
   },
   "outputs": [],
   "source": []
  }
 ],
 "metadata": {
  "application/vnd.databricks.v1+notebook": {
   "computePreferences": null,
   "dashboards": [],
   "environmentMetadata": {
    "base_environment": "",
    "client": "1"
   },
   "language": "sql",
   "notebookMetadata": {
    "pythonIndentUnit": 4
   },
   "notebookName": "1.create_raw_tables",
   "widgets": {}
  },
  "language_info": {
   "name": "sql"
  }
 },
 "nbformat": 4,
 "nbformat_minor": 0
}
