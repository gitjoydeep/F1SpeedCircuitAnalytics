{
 "cells": [
  {
   "cell_type": "code",
   "execution_count": 0,
   "metadata": {
    "application/vnd.databricks.v1+cell": {
     "cellMetadata": {
      "byteLimit": 2048000,
      "rowLimit": 10000
     },
     "inputWidgets": {},
     "nuid": "d8012319-63ab-466a-a5ab-0bc150b98840",
     "showTitle": false,
     "tableResultSettingsMap": {},
     "title": ""
    }
   },
   "outputs": [],
   "source": [
    "select\n",
    "  team_name,\n",
    "  count(*) as races_completed,\n",
    "  sum(calculated_points) as total_points,\n",
    "  avg(calculated_points) as avg_points\n",
    "from\n",
    "  f1_presentation.calculated_race_results\n",
    "group by\n",
    "  team_name\n",
    "  having count(*) > 100\n",
    "order by\n",
    "  avg_points desc"
   ]
  },
  {
   "cell_type": "code",
   "execution_count": 0,
   "metadata": {
    "application/vnd.databricks.v1+cell": {
     "cellMetadata": {
      "byteLimit": 2048000,
      "rowLimit": 10000
     },
     "inputWidgets": {},
     "nuid": "83b1aa23-9df9-44dd-8908-982e672fc3c2",
     "showTitle": false,
     "tableResultSettingsMap": {},
     "title": ""
    }
   },
   "outputs": [],
   "source": [
    "select\n",
    "  team_name,\n",
    "  count(*) as races_completed,\n",
    "  sum(calculated_points) as total_points,\n",
    "  avg(calculated_points) as avg_points\n",
    "from\n",
    "  f1_presentation.calculated_race_results\n",
    "  where race_year between 2001 and 2011\n",
    "group by\n",
    "  team_name\n",
    "  having count(*) > 100\n",
    "order by\n",
    "  avg_points desc"
   ]
  },
  {
   "cell_type": "code",
   "execution_count": 0,
   "metadata": {
    "application/vnd.databricks.v1+cell": {
     "cellMetadata": {},
     "inputWidgets": {},
     "nuid": "e3a9c4d4-cb6f-4894-af87-007e8a4a13d8",
     "showTitle": false,
     "tableResultSettingsMap": {},
     "title": ""
    }
   },
   "outputs": [],
   "source": []
  }
 ],
 "metadata": {
  "application/vnd.databricks.v1+notebook": {
   "computePreferences": null,
   "dashboards": [],
   "environmentMetadata": {
    "base_environment": "",
    "client": "1"
   },
   "language": "sql",
   "notebookMetadata": {
    "pythonIndentUnit": 4
   },
   "notebookName": "2.find_dominant_team",
   "widgets": {}
  },
  "language_info": {
   "name": "sql"
  }
 },
 "nbformat": 4,
 "nbformat_minor": 0
}
